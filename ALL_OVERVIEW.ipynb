{
 "cells": [
  {
   "cell_type": "code",
   "execution_count": 9,
   "id": "b5d2162d",
   "metadata": {},
   "outputs": [
    {
     "name": "stdout",
     "output_type": "stream",
     "text": [
      "                **** print function****\n",
      "\n",
      "Hello world\n",
      "\n",
      "\n",
      "\n",
      "\n",
      "\n",
      "                     ****************************************\n",
      "\n",
      "\n",
      "\"this is inside double quoates\"\n",
      "\n"
     ]
    }
   ],
   "source": [
    "# print fun\n",
    "print(\"                **** print function****\")\n",
    "print()\n",
    "print(\"Hello world\")\n",
    "print()\n",
    "print() #every print statement prints in a new line\n",
    "print(\"\\n\")  #print(\"\\n\") and print() and print(\"\") are same\n",
    "print()\n",
    "print(\"                     ****************************************\")\n",
    "print()\n",
    "\"\"\"\n",
    "data types\n",
    "python undestands datatype itself. String and char value declaration must be inside double/ single \n",
    "quotes as required\n",
    "\"\"\"\n",
    "\n",
    "#Escape characters\n",
    "print()\n",
    "print(\"\\\"this is inside double quoates\\\"\")\n",
    "print()"
   ]
  },
  {
   "cell_type": "code",
   "execution_count": 43,
   "id": "5e42add5",
   "metadata": {},
   "outputs": [
    {
     "name": "stdout",
     "output_type": "stream",
     "text": [
      "ahskitarp\n",
      "pratiksha\n"
     ]
    }
   ],
   "source": [
    "\n",
    "# variable declaration\n",
    "# print(\"                **** variable declaration****\")\n",
    "# print()\n",
    "# a = 1\n",
    "# a1 = 8\n",
    "# b = 2.175\n",
    "# c = 'a'\n",
    "# d = \"b\"\n",
    "# e = \"satyajit\"\n",
    "# print(a1/b)\n",
    "# print(a1//b) #returns quationt\n",
    "f = 'pratiksha'\n",
    "\n",
    "\n",
    "# for xxx in f:\n",
    "#     print(xxx)\n",
    "    \n",
    "# print(len(f))\n",
    "# print(f[1])\n",
    "# print(f[-1])\n",
    "# print(f[len(f)//2])\n",
    "    \n",
    "# for i in range(0,10): #range(10) ---> [0,1,2,3,4,5,6,7,8,9]\n",
    "#     print(i)\n",
    "    \n",
    "# for i in range(len(f)):\n",
    "#     print(f[i])\n",
    "\n",
    "# string slicing-\n",
    "# print(f[:])\n",
    "# print(f[0:4])\n",
    "# print(f[:1])\n",
    "# print(f[:2])\n",
    "# print(f[:3])\n",
    "# print(f[:4])\n",
    "# print(f[-4:])\n",
    "# print(f[:-4])\n",
    "\n",
    "# print(f[::-1])\n",
    "# print(f[::1])\n",
    "\n",
    "#  f [starting point : end point : reverse and forward printing]\n",
    "#  0  1  2  3  4  5  6  7  8   ---> forward indexing\n",
    "#  p  r  a  t  i  k  s  h  a        string \n",
    "# -9 -8 -7 -6 -5 -4 -3 -2 -1   ---> reverse indexing\n",
    "\n",
    "# g = None\n",
    "# h = True\n",
    "# i = False\n",
    "# print(\"value of a is\",a,\"and dataype is\",type(a))\n",
    "# print(\"value of b is\",b,\"and dataype is\",type(b))\n",
    "# print(\"value of c is\",c,\"and dataype is\",type(c))\n",
    "# print(\"value of d is\",d,\"and dataype is\",type(d))\n",
    "# print(\"value of e is\",e,\"and dataype is\",type(e))\n",
    "# print(\"value of f is\",f,\"and dataype is\",type(f))\n",
    "# print(\"value of g is\",g,\"and dataype is\",type(g),\" ---> None is special datatype in python which idicates \\\"null\\\"\")      \n",
    "# print(\"value of h is\",h,\"and dataype is\",type(h))\n",
    "# print(\"value of i is\",i,\"and dataype is\",type(i))\n",
    "# print()\n",
    "# print(\"                    ****************************************\")\n",
    "# print()\n"
   ]
  },
  {
   "cell_type": "code",
   "execution_count": 44,
   "id": "286e03b5",
   "metadata": {},
   "outputs": [
    {
     "name": "stdout",
     "output_type": "stream",
     "text": [
      "                **** arithmetic operators****\n",
      "\n",
      "a+b =  15\n",
      "a-b =  -5\n",
      "a*b =  50\n",
      "a/b =  0.5\n",
      "None\n",
      "\n",
      "                    ****************************************\n",
      "\n"
     ]
    }
   ],
   "source": [
    "\n",
    "\n",
    "# arithmetic operators\n",
    "print(\"                **** arithmetic operators****\")\n",
    "print()\n",
    "a = 5\n",
    "b = 10\n",
    "c = None\n",
    "print(\"a+b = \",a+b)\n",
    "print(\"a-b = \",a-b)\n",
    "print(\"a*b = \",a*b)\n",
    "print(\"a/b = \",a/b)\n",
    "print(a**2)\n",
    "print(c) \n",
    "print()\n",
    "print(\"                    ****************************************\")\n",
    "print()\n",
    "\n"
   ]
  },
  {
   "cell_type": "code",
   "execution_count": 48,
   "id": "04ac550d",
   "metadata": {},
   "outputs": [
    {
     "name": "stdout",
     "output_type": "stream",
     "text": [
      "                **** type casting****\n",
      "\n",
      "a if of datatype <class 'float'>\n",
      "after typecasting datatype of a is <class 'float'>\n",
      "initial datatype of b was <class 'int'> but now it is <class 'int'> now type of b is changed to integer\n",
      "\n",
      "                    ****************************************\n",
      "\n"
     ]
    }
   ],
   "source": [
    "\n",
    "#type casting --> changing datatype of variable \n",
    "print(\"                **** type casting****\")\n",
    "print()\n",
    "print(\"a if of datatype\",type(a))\n",
    "a = float(a)\n",
    "print(\"after typecasting datatype of a is\",type(a))\n",
    "print(\"initial datatype of b was\",type(b),\"but now it is\",type(int(b)),\"now type of b is changed to integer\")\n",
    "print()\n",
    "print(\"                    ****************************************\")\n",
    "print()\n"
   ]
  },
  {
   "cell_type": "code",
   "execution_count": 97,
   "id": "1f20755a",
   "metadata": {},
   "outputs": [
    {
     "name": "stdout",
     "output_type": "stream",
     "text": [
      "\n",
      "[0, 1, 2, 3, 4, 5, 6, 7, 8, 9, 10]\n",
      "\n",
      "LIST SLICING\n",
      "[0, 1, 2, 3, 4, 5, 6, 7, 8, 9, 10]\n",
      "\n"
     ]
    }
   ],
   "source": [
    "\n",
    "# LIST \n",
    "L1 = [\"c\",1,2,3,4,5,4,3,2,1,1,1,1]\n",
    "# print(\"total items in list L1 are\", len(L1))\n",
    "# print(L1[0])\n",
    "# print(L1[1])\n",
    "print()\n",
    "# print(\"printing all items in list - method 1\")\n",
    "\n",
    "# for item in L1: # L1 will be replicated by [1,2,3,4,5,4,3,2,1]\n",
    "#     print(item)\n",
    "    \n",
    "# print()\n",
    "\n",
    "# print(\"printing all items in List-method 2\")\n",
    "\n",
    "# for i in range(len(L1)):\n",
    "#     print(L1[i],\"is at index \",i)\n",
    "\n",
    "# print()\n",
    "# print(\"printing all items in List-method 3\")\n",
    "# print(L1)\n",
    "# print()\n",
    "\n",
    "# print(\"adding new elements to existing list using \\\"append\\\" method\")\n",
    "# L1[8] = \"PRATU\"  #using this method I can only replace existing list elements and can't add new element,,,, try to add L1[9]\n",
    "# print(L1[8])\n",
    "\n",
    "# L1.append(999)\n",
    "# L1.append(\"SP\")\n",
    "# L1.insert(0,\"xxx\") #arg1 is index and arg2 is new elemets' value\n",
    "# LISTT = L1.copy()\n",
    "# L1.clear()\n",
    "# a = L1.count(1) #HOW MANY TIMES ONE CAME IN LIST L1\n",
    "# print(L1.index(\"c\")) #ardument is element in list\n",
    "# print(LISTT)\n",
    "# L1.remove(1) #argument is element in list\n",
    "# L1.remove(1)\n",
    "# L1.remove(1)\n",
    "\n",
    "# L1.reverse()\n",
    "# print(L1)\n",
    "# print(\"\\\"1\\\" came\",a,\"times in L1\")\n",
    "\n",
    "# L2 = [5,4,7,9,6,2,1,3]\n",
    "# L2.sort() #decreasing and increasing order sorting ,,,, reverse=True for decreasing order\n",
    "# print(L2)\n",
    "\n",
    "# L2.sort(reverse=True)\n",
    "# print(L2)\n",
    "# print()\n",
    "# print(\"adding new element at index 0\")\n",
    "# L1[0] = \"new element\"\n",
    "# print(L1)\n",
    "# print()\n",
    "\n",
    "# print(\"before popping\",L1)\n",
    "# print(\"pop removes last item\")\n",
    "# L1.pop()\n",
    "# print(\"L1 after pop = \",L1)\n",
    "\n",
    "\n",
    "L3 = [0,1,2,3,4,5,6,7,8,9,10]\n",
    "print(L3)\n",
    "print()\n",
    "print(\"LIST SLICING\")\n",
    "# print(L3[1:4])\n",
    "# print(L3[5:])\n",
    "# print(L3[:5])\n",
    "# print(L3[:])\n",
    "# print(L3[:len(L3)])\n",
    "print()\n",
    "\n"
   ]
  },
  {
   "cell_type": "code",
   "execution_count": 101,
   "id": "917772ca",
   "metadata": {},
   "outputs": [
    {
     "name": "stdout",
     "output_type": "stream",
     "text": [
      "[0, 1, 4, 9, 16, 25, 36, 49, 64, 81]\n"
     ]
    }
   ],
   "source": [
    "# making new list \n",
    "l = []\n",
    "for i in range(10):\n",
    "    l.append(i**2)\n",
    "    \n",
    "print(l)\n",
    "\n",
    "# print all element using any two methods\n",
    "\n",
    "# print first five elements\n",
    "\n",
    "# print last five elements\n",
    "\n",
    "# print reverse list\n",
    "\n",
    "# add squares of next 5 elements (9 pryntche squares add ahet ata 14 pryntche add kr)\n",
    "\n",
    "# insert your name at index 0 and my name at last index using two methods,,, using two methods is compulsary\n"
   ]
  },
  {
   "cell_type": "code",
   "execution_count": 110,
   "id": "8e10e631",
   "metadata": {
    "scrolled": true
   },
   "outputs": [
    {
     "name": "stdout",
     "output_type": "stream",
     "text": [
      "(1, 2, 3, 4, 5, 4, 3, 2, 1)\n",
      "we can not modify tuple elements --> non changable\n",
      "(1, 2, 3, 4, 5, 4, 3, 2, 1)\n",
      "(1, 2, 3, 4, 5, 4, 3, 2, 1)\n",
      "(1, 2, 3, 4, 5, 4, 3, 2, 1)\n",
      "(1, 2, 3, 4, 5, 4, 3, 2, 1)\n",
      "(1, 2, 3, 4, 5)\n",
      "(1, 2, 3)\n",
      "(3, 4, 5)\n"
     ]
    }
   ],
   "source": [
    "\n",
    "# Tuple\n",
    "T1 = (1,2,3,4,5,4,3,2,1)\n",
    "print(T1)\n",
    "\n",
    "print(\"we can not modify tuple elements --> non changable\")\n",
    "# T1[0] = 2\n",
    "print(T1)\n",
    "\n",
    "# for item in T1:\n",
    "#     print(item)\n",
    "\n",
    "print(T1[:])\n",
    "print(T1[:len(T1)])\n",
    "print(T1[::-1])\n",
    "print(T1[:5])\n",
    "print(T1[:5:-1])\n",
    "print(T1[2:5])"
   ]
  },
  {
   "cell_type": "code",
   "execution_count": 131,
   "id": "aafb9592",
   "metadata": {},
   "outputs": [
    {
     "name": "stdout",
     "output_type": "stream",
     "text": [
      "{99: 'one', 2: 'two', 3: 'three', 4: 'Four'}\n",
      "one\n",
      "dict_items([(99, 'one'), (2, 'two'), (3, 'three'), (4, 'Four')])\n",
      "dict_keys([99, 2, 3, 4])\n",
      "dict_values(['one', 'two', 'three', 'Four'])\n",
      "\n",
      "99 : one\n",
      "2 : two\n",
      "3 : three\n",
      "4 : Four\n"
     ]
    }
   ],
   "source": [
    "\n",
    "# Dictionary ---> Key:value pairs\n",
    "# if a key:value pair or a key is repeated then latest value is printed\n",
    "D1 = {99:\"one\",2:\"two\",3:\"xxxx\",4:\"Four\",3:\"three\",2:\"two\"}\n",
    "print(D1)\n",
    "\n",
    "print(D1[99]) #argument is \"key\"\n",
    "# print(D1[3])\n",
    "# print(D1[3].capitalize())\n",
    "# print(D1[3].isalpha())\n",
    "# print(D1[3].isupper())\n",
    "# print(D1[3].isascii())\n",
    "# print(D1[1].upper())\n",
    "\n",
    "print(D1.items())\n",
    "print(D1.keys())\n",
    "print(D1.values())\n",
    "\n",
    "print()\n",
    "\n",
    "for key in D1.keys():\n",
    "    print(key,\":\",D1[key])"
   ]
  },
  {
   "cell_type": "code",
   "execution_count": null,
   "id": "44fabc80",
   "metadata": {},
   "outputs": [],
   "source": [
    "# set\n"
   ]
  },
  {
   "cell_type": "code",
   "execution_count": 138,
   "id": "049d5c1e",
   "metadata": {},
   "outputs": [
    {
     "name": "stdout",
     "output_type": "stream",
     "text": [
      "print any number4\n",
      "square of 4 is 16\n"
     ]
    }
   ],
   "source": [
    "# user defined functions\n",
    "# problem statement - create a function which prints the square of user input number\n",
    "\n",
    "def print_square(num):\n",
    "    num_square = num**2\n",
    "    print(\"square of\",num,\"is\",num_square)\n",
    "\n",
    "# whenever input is taken from user its dataa type alwas is string\n",
    "num = int(input(\"print any number\"))\n",
    "# num = int(num)\n",
    "# print(num,type(num))\n",
    "print_square(num)"
   ]
  },
  {
   "cell_type": "code",
   "execution_count": 141,
   "id": "00653c32",
   "metadata": {},
   "outputs": [
    {
     "name": "stdout",
     "output_type": "stream",
     "text": [
      "print any number3\n",
      "square of 3 is 9\n",
      "cube of 3 is 27\n"
     ]
    }
   ],
   "source": [
    "# print_it calling square_print() providing argument num-->user defined number\n",
    "# square_print() is squaring \"num\" storing inside num_square and calling cube_print providing value num and num_square\n",
    "# cube_print() is cubing \"num\" storing inside num_cube and printing square and num\n",
    "def print_it(num):\n",
    "    square_print(num)\n",
    "    \n",
    "def square_print(num):\n",
    "    num_square = num**2\n",
    "    cube_print(num,num_square)\n",
    "    \n",
    "def cube_print(num,num_square):\n",
    "    num_cube = num**3\n",
    "    print(\"square of\",num,\"is\",num_square)\n",
    "    print(\"cube of\",num,\"is\",num_cube)\n",
    "    \n",
    "num = int(input(\"print any number\"))\n",
    "print_it(num)"
   ]
  },
  {
   "cell_type": "code",
   "execution_count": null,
   "id": "6e595d9a",
   "metadata": {},
   "outputs": [],
   "source": []
  }
 ],
 "metadata": {
  "kernelspec": {
   "display_name": "Python 3 (ipykernel)",
   "language": "python",
   "name": "python3"
  },
  "language_info": {
   "codemirror_mode": {
    "name": "ipython",
    "version": 3
   },
   "file_extension": ".py",
   "mimetype": "text/x-python",
   "name": "python",
   "nbconvert_exporter": "python",
   "pygments_lexer": "ipython3",
   "version": "3.10.4"
  }
 },
 "nbformat": 4,
 "nbformat_minor": 5
}
